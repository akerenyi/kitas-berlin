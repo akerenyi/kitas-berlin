{
 "cells": [
  {
   "cell_type": "markdown",
   "metadata": {},
   "source": [
    "# Install Libraries"
   ]
  },
  {
   "cell_type": "code",
   "execution_count": 1,
   "metadata": {},
   "outputs": [
    {
     "name": "stdout",
     "output_type": "stream",
     "text": [
      "Requirement already up-to-date: pip in /Library/Frameworks/Python.framework/Versions/3.6/lib/python3.6/site-packages (20.0.2)\n",
      "Requirement already satisfied: numpy in /Library/Frameworks/Python.framework/Versions/3.6/lib/python3.6/site-packages (1.18.1)\n",
      "Requirement already satisfied: pandas in /Library/Frameworks/Python.framework/Versions/3.6/lib/python3.6/site-packages (0.25.3)\n",
      "Requirement already satisfied: numpy>=1.13.3 in /Library/Frameworks/Python.framework/Versions/3.6/lib/python3.6/site-packages (from pandas) (1.18.1)\n",
      "Requirement already satisfied: pytz>=2017.2 in /Library/Frameworks/Python.framework/Versions/3.6/lib/python3.6/site-packages (from pandas) (2019.3)\n",
      "Requirement already satisfied: python-dateutil>=2.6.1 in /Library/Frameworks/Python.framework/Versions/3.6/lib/python3.6/site-packages (from pandas) (2.8.1)\n",
      "Requirement already satisfied: six>=1.5 in /Library/Frameworks/Python.framework/Versions/3.6/lib/python3.6/site-packages (from python-dateutil>=2.6.1->pandas) (1.13.0)\n",
      "Requirement already satisfied: requests in /Library/Frameworks/Python.framework/Versions/3.6/lib/python3.6/site-packages (2.21.0)\n",
      "Requirement already satisfied: chardet<3.1.0,>=3.0.2 in /Library/Frameworks/Python.framework/Versions/3.6/lib/python3.6/site-packages (from requests) (3.0.4)\n",
      "Requirement already satisfied: certifi>=2017.4.17 in /Library/Frameworks/Python.framework/Versions/3.6/lib/python3.6/site-packages (from requests) (2018.11.29)\n",
      "Requirement already satisfied: idna<2.9,>=2.5 in /Library/Frameworks/Python.framework/Versions/3.6/lib/python3.6/site-packages (from requests) (2.8)\n",
      "Requirement already satisfied: urllib3<1.25,>=1.21.1 in /Library/Frameworks/Python.framework/Versions/3.6/lib/python3.6/site-packages (from requests) (1.24.3)\n",
      "Requirement already satisfied: beautifulsoup4 in /Library/Frameworks/Python.framework/Versions/3.6/lib/python3.6/site-packages (4.6.0)\n",
      "Requirement already satisfied: selenium in /Library/Frameworks/Python.framework/Versions/3.6/lib/python3.6/site-packages (3.141.0)\n",
      "Requirement already satisfied: urllib3 in /Library/Frameworks/Python.framework/Versions/3.6/lib/python3.6/site-packages (from selenium) (1.24.3)\n",
      "Requirement already satisfied: urllib3 in /Library/Frameworks/Python.framework/Versions/3.6/lib/python3.6/site-packages (1.24.3)\n",
      "Updating Homebrew...\n",
      "\u001b[34m==>\u001b[0m \u001b[1mAuto-updated Homebrew!\u001b[0m\n",
      "Updated 2 taps (homebrew/core and homebrew/cask).\n",
      "\u001b[34m==>\u001b[0m \u001b[1mUpdated Casks\u001b[0m\n",
      "acquia-dev\n",
      "\n",
      "\u001b[33mWarning:\u001b[0m geckodriver 0.26.0 is already installed and up-to-date\n",
      "To reinstall 0.26.0, run `brew reinstall geckodriver`\n"
     ]
    }
   ],
   "source": [
    "!pip3 install --upgrade pip\n",
    "!pip3 install numpy\n",
    "!pip3 install pandas\n",
    "!pip3 install requests\n",
    "!pip3 install beautifulsoup4\n",
    "!pip3 install selenium\n",
    "!pip3 install urllib3\n",
    "!brew install geckodriver"
   ]
  },
  {
   "cell_type": "markdown",
   "metadata": {},
   "source": [
    "# Basic imports"
   ]
  },
  {
   "cell_type": "code",
   "execution_count": 2,
   "metadata": {},
   "outputs": [],
   "source": [
    "import os\n",
    "import multiprocessing  as mp\n",
    "import numpy as np\n",
    "import pandas as pd\n",
    "import requests\n",
    "import time\n",
    "from bs4 import BeautifulSoup\n",
    "import urllib.request\n",
    "from bs4 import BeautifulSoup\n",
    "from selenium import webdriver\n",
    "import time\n",
    "import pandas as pd\n",
    "import urllib.request\n",
    "from selenium.webdriver import Chrome\n",
    "from selenium.webdriver.chrome.options import Options"
   ]
  },
  {
   "cell_type": "code",
   "execution_count": 3,
   "metadata": {},
   "outputs": [],
   "source": [
    "# Base directory. Will be used to point the \n",
    "# \"chromedriver\" application\n",
    "ROOT_DIR = os.getcwd()"
   ]
  },
  {
   "cell_type": "code",
   "execution_count": 4,
   "metadata": {},
   "outputs": [],
   "source": [
    "# Base URL that needs to be fetched\n",
    "# in the website \"Kita Navigator\"\n",
    "base_search_urlpage = 'https://www.kita-navigator.berlin.de/einrichtungen?input=Arnold-Knoblauch-Ring%2C%2014109%20Berlin%2C%20Alemanha&betb=2-2020&einfacheSuche=true&entfernung=5&lat=52.4099966&lon=13.137335'"
   ]
  },
  {
   "cell_type": "code",
   "execution_count": 5,
   "metadata": {},
   "outputs": [],
   "source": [
    "# Number of pages that all \n",
    "# results are distributed.\n",
    "number_of_pagination = 2"
   ]
  },
  {
   "cell_type": "code",
   "execution_count": 6,
   "metadata": {},
   "outputs": [],
   "source": [
    "# List with all results of the pagination\n",
    "list_all_pages_for_scrapping = []"
   ]
  },
  {
   "cell_type": "code",
   "execution_count": 7,
   "metadata": {},
   "outputs": [],
   "source": [
    "# Will store all the pagination results\n",
    "for page in range(1, number_of_pagination+1):\n",
    "    list_all_pages_for_scrapping.append(base_search_urlpage + '&seite=' + str(page) + '&index=0')"
   ]
  },
  {
   "cell_type": "code",
   "execution_count": 8,
   "metadata": {},
   "outputs": [],
   "source": [
    "# List that will store all Kitas fetched \n",
    "# for each of the pagination links\n",
    "list_of_kitas_paginated = []"
   ]
  },
  {
   "cell_type": "code",
   "execution_count": 9,
   "metadata": {},
   "outputs": [],
   "source": [
    "# For each paginated page, will fetch all \n",
    "# sites for each kita\n",
    "for pagination_page in list_all_pages_for_scrapping:\n",
    "    \n",
    "    # The Chrome driver will open a page to load \n",
    "    # the page and all JavaScript objects\n",
    "    webdriver_path = ROOT_DIR + \"/chromedriver\"\n",
    "    driver = Chrome(webdriver_path)\n",
    "\n",
    "    # Will open the webpage and load\n",
    "    # all objects in a separate window\n",
    "    driver.get(pagination_page)\n",
    "\n",
    "    # Execute script to scroll down the page to \n",
    "    # load all JavaScript objects\n",
    "    driver.execute_script(\"window.scrollTo(0, document.body.scrollHeight);var lenOfPage=document.body.scrollHeight;return lenOfPage;\")\n",
    "\n",
    "    # The window will open for 2 seconds to give\n",
    "    # time to load all objects\n",
    "    time.sleep(2)\n",
    "\n",
    "    # All elements in the HTML \n",
    "    # that contains a link \"href\" will be fetched and \n",
    "    # stored in the \"list_of_kitas_paginated\" list\n",
    "    elems = driver.find_elements_by_xpath(\"//a[@href]\")\n",
    "    for elem in elems:\n",
    "        list_of_kitas_paginated.append(elem.get_attribute(\"href\"))\n",
    "\n",
    "    # Those 2 list comprehensions will prune out\n",
    "    # URLs that aren't related with Kitas (I checked the \n",
    "    # pattern by myself)\n",
    "\n",
    "    # Condition #1: Has the \"https://www.kita-navigator.berlin.de/einrichtungen/\" string\n",
    "    list_of_kitas_paginated = \\\n",
    "        [i for i in list_of_kitas_paginated if 'https://www.kita-navigator.berlin.de/einrichtungen/' in i]\n",
    "\n",
    "    # Condition #2: Has the \"einfacheSuche=true\" string\n",
    "    list_of_kitas_paginated = \\\n",
    "        [i for i in list_of_kitas_paginated if 'einfacheSuche=true' in i]"
   ]
  },
  {
   "cell_type": "code",
   "execution_count": 10,
   "metadata": {},
   "outputs": [],
   "source": [
    "# As we have some duplicated values\n",
    "# I'll transform in a \"set\" data type to prune out the \n",
    "# duplicated results\n",
    "list_of_kitas_paginated = set(list_of_kitas_paginated)"
   ]
  },
  {
   "cell_type": "code",
   "execution_count": 11,
   "metadata": {},
   "outputs": [],
   "source": [
    "# Put all info in a Pandas DataFrame\n",
    "# and adjust the column name\n",
    "df_kitas_url = pd.DataFrame(list_of_kitas_paginated)\n",
    "df_kitas_url.columns = ['kita_url']"
   ]
  },
  {
   "cell_type": "code",
   "execution_count": 12,
   "metadata": {},
   "outputs": [
    {
     "data": {
      "text/html": [
       "<div>\n",
       "<style scoped>\n",
       "    .dataframe tbody tr th:only-of-type {\n",
       "        vertical-align: middle;\n",
       "    }\n",
       "\n",
       "    .dataframe tbody tr th {\n",
       "        vertical-align: top;\n",
       "    }\n",
       "\n",
       "    .dataframe thead th {\n",
       "        text-align: right;\n",
       "    }\n",
       "</style>\n",
       "<table border=\"1\" class=\"dataframe\">\n",
       "  <thead>\n",
       "    <tr style=\"text-align: right;\">\n",
       "      <th></th>\n",
       "      <th>kita_url</th>\n",
       "    </tr>\n",
       "  </thead>\n",
       "  <tbody>\n",
       "    <tr>\n",
       "      <th>0</th>\n",
       "      <td>https://www.kita-navigator.berlin.de/einrichtu...</td>\n",
       "    </tr>\n",
       "    <tr>\n",
       "      <th>1</th>\n",
       "      <td>https://www.kita-navigator.berlin.de/einrichtu...</td>\n",
       "    </tr>\n",
       "    <tr>\n",
       "      <th>2</th>\n",
       "      <td>https://www.kita-navigator.berlin.de/einrichtu...</td>\n",
       "    </tr>\n",
       "    <tr>\n",
       "      <th>3</th>\n",
       "      <td>https://www.kita-navigator.berlin.de/einrichtu...</td>\n",
       "    </tr>\n",
       "    <tr>\n",
       "      <th>4</th>\n",
       "      <td>https://www.kita-navigator.berlin.de/einrichtu...</td>\n",
       "    </tr>\n",
       "    <tr>\n",
       "      <th>5</th>\n",
       "      <td>https://www.kita-navigator.berlin.de/einrichtu...</td>\n",
       "    </tr>\n",
       "    <tr>\n",
       "      <th>6</th>\n",
       "      <td>https://www.kita-navigator.berlin.de/einrichtu...</td>\n",
       "    </tr>\n",
       "    <tr>\n",
       "      <th>7</th>\n",
       "      <td>https://www.kita-navigator.berlin.de/einrichtu...</td>\n",
       "    </tr>\n",
       "    <tr>\n",
       "      <th>8</th>\n",
       "      <td>https://www.kita-navigator.berlin.de/einrichtu...</td>\n",
       "    </tr>\n",
       "    <tr>\n",
       "      <th>9</th>\n",
       "      <td>https://www.kita-navigator.berlin.de/einrichtu...</td>\n",
       "    </tr>\n",
       "    <tr>\n",
       "      <th>10</th>\n",
       "      <td>https://www.kita-navigator.berlin.de/einrichtu...</td>\n",
       "    </tr>\n",
       "    <tr>\n",
       "      <th>11</th>\n",
       "      <td>https://www.kita-navigator.berlin.de/einrichtu...</td>\n",
       "    </tr>\n",
       "    <tr>\n",
       "      <th>12</th>\n",
       "      <td>https://www.kita-navigator.berlin.de/einrichtu...</td>\n",
       "    </tr>\n",
       "    <tr>\n",
       "      <th>13</th>\n",
       "      <td>https://www.kita-navigator.berlin.de/einrichtu...</td>\n",
       "    </tr>\n",
       "    <tr>\n",
       "      <th>14</th>\n",
       "      <td>https://www.kita-navigator.berlin.de/einrichtu...</td>\n",
       "    </tr>\n",
       "  </tbody>\n",
       "</table>\n",
       "</div>"
      ],
      "text/plain": [
       "                                             kita_url\n",
       "0   https://www.kita-navigator.berlin.de/einrichtu...\n",
       "1   https://www.kita-navigator.berlin.de/einrichtu...\n",
       "2   https://www.kita-navigator.berlin.de/einrichtu...\n",
       "3   https://www.kita-navigator.berlin.de/einrichtu...\n",
       "4   https://www.kita-navigator.berlin.de/einrichtu...\n",
       "5   https://www.kita-navigator.berlin.de/einrichtu...\n",
       "6   https://www.kita-navigator.berlin.de/einrichtu...\n",
       "7   https://www.kita-navigator.berlin.de/einrichtu...\n",
       "8   https://www.kita-navigator.berlin.de/einrichtu...\n",
       "9   https://www.kita-navigator.berlin.de/einrichtu...\n",
       "10  https://www.kita-navigator.berlin.de/einrichtu...\n",
       "11  https://www.kita-navigator.berlin.de/einrichtu...\n",
       "12  https://www.kita-navigator.berlin.de/einrichtu...\n",
       "13  https://www.kita-navigator.berlin.de/einrichtu...\n",
       "14  https://www.kita-navigator.berlin.de/einrichtu..."
      ]
     },
     "execution_count": 12,
     "metadata": {},
     "output_type": "execute_result"
    }
   ],
   "source": [
    "# Check (Must have 15, as the original search)\n",
    "df_kitas_url"
   ]
  },
  {
   "cell_type": "code",
   "execution_count": 13,
   "metadata": {},
   "outputs": [],
   "source": [
    "# Save in a CSV file to be consumed \n",
    "# in another notebook\n",
    "df_kitas_url.to_csv('df_kitas_url.csv', index=None)"
   ]
  },
  {
   "cell_type": "code",
   "execution_count": null,
   "metadata": {},
   "outputs": [],
   "source": []
  }
 ],
 "metadata": {
  "kernelspec": {
   "display_name": "Python 3",
   "language": "python",
   "name": "python3"
  },
  "language_info": {
   "codemirror_mode": {
    "name": "ipython",
    "version": 3
   },
   "file_extension": ".py",
   "mimetype": "text/x-python",
   "name": "python",
   "nbconvert_exporter": "python",
   "pygments_lexer": "ipython3",
   "version": "3.6.8"
  }
 },
 "nbformat": 4,
 "nbformat_minor": 4
}
